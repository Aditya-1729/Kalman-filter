{
 "cells": [
  {
   "cell_type": "code",
   "execution_count": 384,
   "metadata": {
    "collapsed": true
   },
   "outputs": [
    {
     "data": {
      "text/plain": [
       "{'__header__': b'MATLAB 5.0 MAT-file, Platform: MACI64, Created on: Wed May  1 16:31:37 2019',\n",
       " '__version__': '1.0',\n",
       " '__globals__': [],\n",
       " 'measurements': array([[-2.01578286e+00, -2.90755100e+00, -2.67744130e+00,\n",
       "          9.53043089e+00, -2.14360671e-01,  1.06772859e+00,\n",
       "          2.74434930e+00,  8.60427418e+00, -7.35467346e+00,\n",
       "         -7.80599949e+00, -1.49797330e+01, -5.93316229e+00,\n",
       "         -1.17022535e+01, -6.71331334e+00, -3.01375020e+00,\n",
       "          7.02612740e+00, -6.66765458e-01, -9.18057096e+00,\n",
       "         -2.61483587e+00, -6.39310722e+00,  6.23473427e+00,\n",
       "         -1.46211756e+00, -9.56433270e+00,  7.59269033e-01,\n",
       "         -8.11606610e+00, -1.64683342e+01, -3.78281668e+00,\n",
       "         -5.97354872e-02,  2.30420684e-02,  1.87384025e+00,\n",
       "         -1.02493121e+01, -6.44024977e+00, -2.74091998e+00,\n",
       "         -9.38215695e+00, -2.59333674e+00, -3.92937832e+00,\n",
       "         -8.47735816e+00, -3.69684610e+00, -1.02905538e+01,\n",
       "         -8.85671981e+00,  8.29026256e+00, -2.47209602e+00,\n",
       "         -7.13212221e+00, -1.08931046e+01, -8.20015036e+00,\n",
       "         -5.97146335e+00, -9.40855070e+00, -1.45933008e+01,\n",
       "         -1.75268078e+01, -2.19443070e+01, -5.64391906e+00,\n",
       "         -1.01263942e+01, -1.24269570e+01, -1.02465195e+01,\n",
       "         -9.58605751e+00, -1.24709805e+01, -1.34837577e+01,\n",
       "         -1.75565144e+01, -1.57377054e+01, -2.14297370e+01],\n",
       "        [ 4.85327737e+00,  8.21205497e+00,  2.17728581e+01,\n",
       "          2.45044412e+01,  3.55284413e+01,  4.45488201e+01,\n",
       "          6.23598646e+01,  7.92213842e+01,  8.96743001e+01,\n",
       "          9.14199120e+01,  1.01366869e+02,  1.08999605e+02,\n",
       "          1.17292995e+02,  1.18762559e+02,  1.44167916e+02,\n",
       "          1.55539679e+02,  1.60072661e+02,  1.71698096e+02,\n",
       "          1.83544587e+02,  1.95949181e+02,  2.04191569e+02,\n",
       "          2.14515531e+02,  2.28681973e+02,  2.30861078e+02,\n",
       "          2.45666003e+02,  2.51106987e+02,  2.58123658e+02,\n",
       "          2.73202204e+02,  2.80456774e+02,  2.90767825e+02,\n",
       "          2.95862246e+02,  3.18896383e+02,  3.22474424e+02,\n",
       "          3.27603491e+02,  3.34857098e+02,  3.38952454e+02,\n",
       "          3.58291300e+02,  3.69897930e+02,  3.74311292e+02,\n",
       "          3.85663122e+02,  3.88603288e+02,  4.02022083e+02,\n",
       "          4.11441525e+02,  4.29253790e+02,  4.38529511e+02,\n",
       "          4.37116309e+02,  4.49290878e+02,  4.69737694e+02,\n",
       "          4.71814814e+02,  4.77482092e+02,  4.96623610e+02,\n",
       "          5.11207979e+02,  5.20327580e+02,  5.28521089e+02,\n",
       "          5.40395300e+02,  5.53605561e+02,  5.53313554e+02,\n",
       "          5.66496287e+02,  5.77693455e+02,  5.88560549e+02]]),\n",
       " 'targetState': array([[ 0.00000000e+00,  6.66116369e-02, -1.43747697e-02,\n",
       "         -1.30990004e-01, -3.30548710e-01, -5.80116799e-01,\n",
       "         -9.57264439e-01, -1.31626522e+00, -1.69437021e+00,\n",
       "         -2.03591724e+00, -2.15925105e+00, -2.16902314e+00,\n",
       "         -2.17501637e+00, -2.11863673e+00, -2.25893479e+00,\n",
       "         -2.49252874e+00, -2.82570548e+00, -3.11190449e+00,\n",
       "         -3.28547261e+00, -3.48067157e+00, -3.68874252e+00,\n",
       "         -3.88473090e+00, -4.10341555e+00, -4.35085437e+00,\n",
       "         -4.59880978e+00, -4.94685071e+00, -5.17190123e+00,\n",
       "         -5.39507321e+00, -5.52938078e+00, -5.69199954e+00,\n",
       "         -5.99930664e+00, -6.29606955e+00, -6.67006054e+00,\n",
       "         -6.91924388e+00, -7.08411970e+00, -7.30688185e+00,\n",
       "         -7.62610690e+00, -7.88491420e+00, -8.05555773e+00,\n",
       "         -8.34431649e+00, -8.67338482e+00, -9.04496658e+00,\n",
       "         -9.31775531e+00, -9.61242246e+00, -9.87831085e+00,\n",
       "         -1.02424400e+01, -1.05839891e+01, -1.09187353e+01,\n",
       "         -1.11695450e+01, -1.13481653e+01, -1.15415779e+01,\n",
       "         -1.19498369e+01, -1.24045868e+01, -1.27289649e+01,\n",
       "         -1.30479322e+01, -1.34440986e+01, -1.37997075e+01,\n",
       "         -1.42248625e+01, -1.46043559e+01, -1.51522655e+01],\n",
       "        [ 0.00000000e+00,  9.96863402e+00,  1.98962055e+01,\n",
       "          2.97690415e+01,  3.97958849e+01,  4.97909307e+01,\n",
       "          5.98247469e+01,  6.99024239e+01,  8.00082128e+01,\n",
       "          9.01325162e+01,  1.00286303e+02,  1.10418483e+02,\n",
       "          1.20657811e+02,  1.30695222e+02,  1.40687762e+02,\n",
       "          1.50642305e+02,  1.60576186e+02,  1.70586596e+02,\n",
       "          1.80611123e+02,  1.90596902e+02,  2.00634609e+02,\n",
       "          2.10621067e+02,  2.20533032e+02,  2.30439190e+02,\n",
       "          2.40192244e+02,  2.49944790e+02,  2.59648032e+02,\n",
       "          2.69336055e+02,  2.79084850e+02,  2.88817574e+02,\n",
       "          2.98622360e+02,  3.08431096e+02,  3.18117821e+02,\n",
       "          3.27902211e+02,  3.37826265e+02,  3.47815208e+02,\n",
       "          3.57848419e+02,  3.67776563e+02,  3.77655053e+02,\n",
       "          3.87489617e+02,  3.97295259e+02,  4.07183112e+02,\n",
       "          4.17183991e+02,  4.27218608e+02,  4.37195176e+02,\n",
       "          4.47208836e+02,  4.57223098e+02,  4.67229140e+02,\n",
       "          4.77225439e+02,  4.87256037e+02,  4.97217212e+02,\n",
       "          5.07020070e+02,  5.16785483e+02,  5.26484466e+02,\n",
       "          5.36400124e+02,  5.46372818e+02,  5.56397104e+02,\n",
       "          5.66547208e+02,  5.76703958e+02,  5.86691778e+02],\n",
       "        [ 0.00000000e+00,  4.50068716e-02, -1.60615236e-01,\n",
       "         -1.14956145e-01, -2.70374466e-01, -3.16833093e-01,\n",
       "         -4.02956237e-01, -3.85542548e-01, -4.37380548e-01,\n",
       "         -2.10984406e-01,  1.89889753e-02,  4.10537614e-02,\n",
       "          4.48894273e-02, -6.25573447e-02, -2.15521478e-01,\n",
       "         -2.68799640e-01, -2.94919031e-01, -1.95458873e-01,\n",
       "         -2.00294794e-01, -1.84986658e-01, -1.94017391e-01,\n",
       "         -1.74524048e-01, -2.72031332e-01, -2.99126060e-01,\n",
       "         -2.71570098e-01, -2.38499885e-01, -2.26217234e-01,\n",
       "         -1.65231905e-01, -1.41969184e-01, -2.66022970e-01,\n",
       "         -3.28586106e-01, -2.68242891e-01, -3.46076301e-01,\n",
       "         -1.67717738e-01, -9.40783307e-02, -2.94418372e-01,\n",
       "         -3.11373135e-01, -2.48073179e-01, -2.18247419e-01,\n",
       "         -3.55225811e-01, -3.48926219e-01, -2.73034243e-01,\n",
       "         -2.90788506e-01, -2.58345835e-01, -2.96709313e-01,\n",
       "         -4.11854903e-01, -3.42952254e-01, -3.22788844e-01,\n",
       "         -2.25983511e-01, -1.09730522e-01, -3.11408758e-01,\n",
       "         -5.08732059e-01, -3.18707591e-01, -3.09497550e-01,\n",
       "         -3.86129953e-01, -3.94409500e-01, -3.80498689e-01,\n",
       "         -3.73821400e-01, -4.93740420e-01, -5.58801537e-01],\n",
       "        [ 1.00000000e+01,  9.94048272e+00,  9.86938953e+00,\n",
       "          9.89337450e+00,  1.00952181e+01,  9.99454285e+00,\n",
       "          1.00360969e+01,  1.00946610e+01,  1.01338566e+01,\n",
       "          1.01482464e+01,  1.01706038e+01,  1.02149150e+01,\n",
       "          1.01635348e+01,  9.97758930e+00,  9.89526376e+00,\n",
       "          9.98485107e+00,  9.93505835e+00,  1.01046503e+01,\n",
       "          9.91650173e+00,  9.98797885e+00,  1.00291289e+01,\n",
       "          9.94716541e+00,  9.89599906e+00,  9.86361145e+00,\n",
       "          9.74175108e+00,  9.72482032e+00,  9.66753489e+00,\n",
       "          9.72216619e+00,  9.78851552e+00,  9.70461966e+00,\n",
       "          9.84105471e+00,  9.81155825e+00,  9.63539182e+00,\n",
       "          9.86119615e+00,  9.95052959e+00,  1.00391742e+01,\n",
       "          9.98410345e+00,  9.88838577e+00,  9.85442006e+00,\n",
       "          9.85787632e+00,  9.80502582e+00,  9.97336967e+00,\n",
       "          1.00538941e+01,  1.00205889e+01,  9.99452984e+00,\n",
       "          1.00154668e+01,  1.00823103e+01,  1.00077688e+01,\n",
       "          1.00235398e+01,  1.00988305e+01,  9.85410013e+00,\n",
       "          9.82196129e+00,  9.68542360e+00,  9.78892212e+00,\n",
       "          9.91740735e+00,  1.00355023e+01,  1.01153345e+01,\n",
       "          1.01841757e+01,  1.01157264e+01,  9.90548977e+00]])}"
      ]
     },
     "execution_count": 384,
     "metadata": {},
     "output_type": "execute_result"
    }
   ],
   "source": [
    "import scipy.io\n",
    "import numpy as np\n",
    "import matplotlib.pyplot as plt\n",
    "import matplotlib\n",
    "data = scipy.io.loadmat('data.mat')\n",
    "data"
   ]
  },
  {
   "cell_type": "code",
   "execution_count": 7,
   "metadata": {},
   "outputs": [
    {
     "data": {
      "text/plain": [
       "(2, 60)"
      ]
     },
     "execution_count": 7,
     "metadata": {},
     "output_type": "execute_result"
    }
   ],
   "source": [
    "measurements = data['measurements']\n",
    "targetState = data['targetState']\n",
    "measurements.shape\n"
   ]
  },
  {
   "cell_type": "raw",
   "metadata": {},
   "source": [
    "targetState"
   ]
  },
  {
   "cell_type": "code",
   "execution_count": 182,
   "metadata": {},
   "outputs": [
    {
     "data": {
      "text/plain": [
       "(4, 4)"
      ]
     },
     "execution_count": 182,
     "metadata": {},
     "output_type": "execute_result"
    }
   ],
   "source": [
    "# State transition matrix\n",
    "#state vector = [x,y,x_dot,y_dot]\n",
    "del_t = 1\n",
    "F_k = np.array([[1,0,del_t,0],[0,1,0,del_t],[0,0,1,0],[0,0,0,1]])\n",
    "F_k.shape"
   ]
  },
  {
   "cell_type": "code",
   "execution_count": 41,
   "metadata": {
    "collapsed": true
   },
   "outputs": [
    {
     "data": {
      "text/plain": [
       "array([[0.00033333, 0.0005    , 0.        , 0.        ],\n",
       "       [0.0005    , 0.001     , 0.        , 0.        ],\n",
       "       [0.        , 0.        , 0.00033333, 0.0005    ],\n",
       "       [0.        , 0.        , 0.0005    , 0.001     ]])"
      ]
     },
     "execution_count": 41,
     "metadata": {},
     "output_type": "execute_result"
    }
   ],
   "source": [
    "q = 0.001 \n",
    "Q_k = np.array([[(q*del_t**3)/3, q*(del_t**2)/2, 0,0], \n",
    "                [q*(del_t**2)/2, q*del_t,0,0],\n",
    "                [0,0, (q*del_t**3)/3, q*(del_t**2)/2], \n",
    "                [0,0,q*(del_t**2)/2,q*del_t]])\n",
    "Q_k"
   ]
  },
  {
   "cell_type": "code",
   "execution_count": 17,
   "metadata": {},
   "outputs": [
    {
     "data": {
      "text/plain": [
       "(4, 4)"
      ]
     },
     "execution_count": 17,
     "metadata": {},
     "output_type": "execute_result"
    }
   ],
   "source": [
    "v_k.shape"
   ]
  },
  {
   "cell_type": "code",
   "execution_count": 240,
   "metadata": {},
   "outputs": [
    {
     "data": {
      "text/plain": [
       "(2, 4)"
      ]
     },
     "execution_count": 240,
     "metadata": {},
     "output_type": "execute_result"
    }
   ],
   "source": [
    "#measurement matrix\n",
    "H_k = np.array([[1,0,0,0],[0,1,0,0]])\n",
    "H_k\n",
    "alpha_x = 5\n",
    "alpha_y = 5\n",
    "R_k = np.array([[alpha_x**2,0], [0, alpha_y**2]])\n",
    "H_k.shape"
   ]
  },
  {
   "cell_type": "code",
   "execution_count": 55,
   "metadata": {},
   "outputs": [
    {
     "data": {
      "text/plain": [
       "(1, 60)"
      ]
     },
     "execution_count": 55,
     "metadata": {},
     "output_type": "execute_result"
    }
   ],
   "source": [
    "estimate = np.zeros((4,60))\n",
    "gain = np.zeros((1,60))\n",
    "gain.shape"
   ]
  },
  {
   "cell_type": "code",
   "execution_count": 298,
   "metadata": {},
   "outputs": [],
   "source": [
    "def kalmanPrediction(mean, covar, F_k, Q_k):\n",
    "    priorMean = F_k@mean\n",
    "    priorCovar = F_k@covar@F_k.T + Q_k\n",
    "    return priorMean, priorCovar"
   ]
  },
  {
   "cell_type": "code",
   "execution_count": 355,
   "metadata": {},
   "outputs": [],
   "source": [
    "def kalmanUpdate(priorMean,priorCovar,z,H_k,R_k):\n",
    "    z_k_estimate = priorMean.T@H_k.T\n",
    "\n",
    "    S_k = H_k@priorCovar@H_k.T + R_k\n",
    "\n",
    "    v_k = z - z_k_estimate\n",
    "\n",
    "    W_k = priorCovar@H_k.T@np.linalg.pinv(S_k)\n",
    "\n",
    "    mean = (W_k@v_k.T) + priorMean \n",
    "\n",
    "#     print(W_k@v_k.T)\n",
    "    covar = priorCovar - W_k@S_k@W_k.T\n",
    "    return mean, covar, W_k[0,0]"
   ]
  },
  {
   "cell_type": "code",
   "execution_count": 400,
   "metadata": {},
   "outputs": [
    {
     "name": "stdout",
     "output_type": "stream",
     "text": [
      "[[0.         0.         0.         0.8333337  0.70000253 0.60000693\n",
      "  0.52382352 0.46431006 0.41670536 0.37783553 0.34553682 0.31829482\n",
      "  0.29502247 0.27492129 0.25739262 0.24197927 0.2283264  0.21615459\n",
      "  0.20524085 0.19540521 0.1865008  0.17840663 0.17102215 0.16426306\n",
      "  0.1580582  0.15234707 0.14707784 0.14220588 0.13769252 0.13350403\n",
      "  0.12961086 0.12598697 0.1226093  0.11945732 0.11651268 0.1137589\n",
      "  0.1111811  0.10876581 0.10650081 0.10437493 0.10237798 0.1005006\n",
      "  0.09873421 0.09707091 0.09550345 0.0940251  0.09262971 0.09131158\n",
      "  0.09006546 0.08888652 0.08777032 0.08671276 0.08571007 0.08475881\n",
      "  0.0838558  0.08299813 0.08218313 0.08140836 0.08067156 0.0799707 ]]\n"
     ]
    },
    {
     "data": {
      "image/png": "[encoded data removed]",
      "text/plain": [
       "<Figure size 432x288 with 1 Axes>"
      ]
     },
     "metadata": {
      "needs_background": "light"
     },
     "output_type": "display_data"
    }
   ],
   "source": [
    "for i in range(60):\n",
    "    z = np.array([measurements[:,i]])\n",
    "    if i == 1:\n",
    "\n",
    "        mean = np.array([[z[0,0], z[0,1], \n",
    "                         z[0,0]-measurements[0,i], \n",
    "                         z[0,1]-measurements[1,i]]]).T\n",
    "\n",
    "        covar = np.array([[R_k[0,0], 0, R_k[0,0], 0], \n",
    "                          [0, R_k[1,1], 0, R_k[1,1]], \n",
    "                          [R_k[0,0], 0, 2*R_k[0,0], 0],\n",
    "                          [0, R_k[1,1], 0 , 2*R_k[1,1]]])\n",
    "        \n",
    "        estimate[:,i] = mean[:,0]\n",
    "        estimate.shape\n",
    "    elif i>2:\n",
    "        priorMean, priorCovar = kalmanPrediction(mean,covar,F_k,Q_k)\n",
    "\n",
    "#         mean, covar, gain[:,i] = kalmanUpdate(priorMean, priorCovar, z, H_k, R_k)\n",
    "        mean, covar, gain[:,i] = kalmanUpdate(priorMean, priorCovar, z, H_k, R_k)\n",
    "#         print(mean.shape)\n",
    "        estimate[:,i] = mean[:,0]\n",
    "\n",
    "# Note that even in the OO-style, we use `.pyplot.figure` to create the figure.\n",
    "fig, ax = plt.subplots()  # Create a figure and an axes.\n",
    "ax.plot(estimate[0,:], estimate[1,:], label='estimate')\n",
    "ax.plot(measurements[0,:],  measurements[1,:], 'r.' )\n",
    "ax.set_xlim(-100,100)\n",
    "print(gain)\n",
    "        \n",
    "#     if i==4:\n",
    "        \n",
    "        "
   ]
  },
  {
   "cell_type": "code",
   "execution_count": 294,
   "metadata": {
    "collapsed": true
   },
   "outputs": [
    {
     "ename": "ValueError",
     "evalue": "matmul: Input operand 1 has a mismatch in its core dimension 0, with gufunc signature (n?,k),(k,m?)->(n?,m?) (size 1 is different from 4)",
     "output_type": "error",
     "traceback": [
      "\u001b[1;31m---------------------------------------------------------------------------\u001b[0m",
      "\u001b[1;31mValueError\u001b[0m                                Traceback (most recent call last)",
      "\u001b[1;32m<ipython-input-294-d67f37132fa8>\u001b[0m in \u001b[0;36m<module>\u001b[1;34m\u001b[0m\n\u001b[1;32m----> 1\u001b[1;33m \u001b[0mpriorMean\u001b[0m \u001b[1;33m=\u001b[0m \u001b[0mF_k\u001b[0m\u001b[1;33m@\u001b[0m\u001b[0mmean\u001b[0m\u001b[1;33m\u001b[0m\u001b[1;33m\u001b[0m\u001b[0m\n\u001b[0m\u001b[0;32m      2\u001b[0m \u001b[0mpriorCovar\u001b[0m \u001b[1;33m=\u001b[0m \u001b[0mF_k\u001b[0m\u001b[1;33m@\u001b[0m\u001b[0mcovar\u001b[0m\u001b[1;33m@\u001b[0m\u001b[0mF_k\u001b[0m\u001b[1;33m.\u001b[0m\u001b[0mT\u001b[0m \u001b[1;33m+\u001b[0m \u001b[0mQ_k\u001b[0m\u001b[1;33m\u001b[0m\u001b[1;33m\u001b[0m\u001b[0m\n\u001b[0;32m      3\u001b[0m \u001b[1;33m\u001b[0m\u001b[0m\n\u001b[0;32m      4\u001b[0m \u001b[1;33m\u001b[0m\u001b[0m\n\u001b[0;32m      5\u001b[0m \u001b[0mz_k_estimate\u001b[0m \u001b[1;33m=\u001b[0m \u001b[0mpriorMean\u001b[0m\u001b[1;33m.\u001b[0m\u001b[0mT\u001b[0m\u001b[1;33m@\u001b[0m\u001b[0mH_k\u001b[0m\u001b[1;33m.\u001b[0m\u001b[0mT\u001b[0m\u001b[1;33m\u001b[0m\u001b[1;33m\u001b[0m\u001b[0m\n",
      "\u001b[1;31mValueError\u001b[0m: matmul: Input operand 1 has a mismatch in its core dimension 0, with gufunc signature (n?,k),(k,m?)->(n?,m?) (size 1 is different from 4)"
     ]
    }
   ],
   "source": [
    "priorMean = F_k@mean\n",
    "priorCovar = F_k@covar@F_k.T + Q_k\n",
    "\n",
    "\n",
    "z_k_estimate = priorMean.T@H_k.T\n",
    "#     print(z_k_estimate.shape)\n",
    "S_k = H_k@priorCovar@H_k.T + R_k\n",
    "#     print(S_k.shape)\n",
    "v_k = z - z_k_estimate\n",
    "#     print(v_k.shape)\n",
    "W_k = priorCovar@H_k.T@np.linalg.pinv(S_k)\n",
    "#     print(W_k.shape)\n",
    "#     print(v_k)\n",
    "#     print(\"W_k =\",W_k.shape, \"prior\",priorMean.shape,\"v_k\",v_k.shape)\n",
    "mean = (W_k@v_k.T) + priorMean \n",
    "\n",
    "#     print(W_k@v_k.T)\n",
    "covar = priorCovar - W_k@S_k@W_k.T"
   ]
  },
  {
   "cell_type": "code",
   "execution_count": 377,
   "metadata": {
    "scrolled": true
   },
   "outputs": [
    {
     "name": "stdout",
     "output_type": "stream",
     "text": [
      "Variable           Type           Data/Info\n",
      "-------------------------------------------\n",
      "A                  ndarray        4x1: 4 elems, type `float64`, 32 bytes\n",
      "B                  ndarray        1x2: 2 elems, type `float64`, 16 bytes\n",
      "F_k                ndarray        4x4: 16 elems, type `int32`, 64 bytes\n",
      "H_k                ndarray        2x4: 8 elems, type `int32`, 32 bytes\n",
      "Q_k                ndarray        4x4: 16 elems, type `float64`, 128 bytes\n",
      "R_k                ndarray        2x2: 4 elems, type `int32`, 16 bytes\n",
      "S_k                ndarray        2x2: 4 elems, type `float64`, 32 bytes\n",
      "V                  ndarray        1x2: 2 elems, type `float64`, 16 bytes\n",
      "W                  ndarray        4x2: 8 elems, type `float64`, 64 bytes\n",
      "W_k                ndarray        4x2: 8 elems, type `float64`, 64 bytes\n",
      "alpha_x            int            5\n",
      "alpha_y            int            5\n",
      "ax                 AxesSubplot    AxesSubplot(0.125,0.125;0.775x0.755)\n",
      "covar              ndarray        4x4: 16 elems, type `float64`, 128 bytes\n",
      "data               dict           n=5\n",
      "del_t              int            1\n",
      "estimate           ndarray        4x60: 240 elems, type `float64`, 1920 bytes\n",
      "fig                Figure         Figure(432x288)\n",
      "gain               ndarray        1x60: 60 elems, type `float64`, 480 bytes\n",
      "i                  int            59\n",
      "kalmanPrediction   function       <function kalmanPrediction at 0x00000233D11D8948>\n",
      "kalmanUpdate       function       <function kalmanUpdate at 0x00000233D4EABF78>\n",
      "mean               ndarray        4x1: 4 elems, type `float64`, 32 bytes\n",
      "measurements       ndarray        2x60: 120 elems, type `float64`, 960 bytes\n",
      "np                 module         <module 'numpy' from 'C:\\<...>ges\\\\numpy\\\\__init__.py'>\n",
      "plt                module         <module 'matplotlib.pyplo<...>\\\\matplotlib\\\\pyplot.py'>\n",
      "priorCovar         ndarray        4x4: 16 elems, type `float64`, 128 bytes\n",
      "priorMean          ndarray        4x1: 4 elems, type `float64`, 32 bytes\n",
      "q                  float          0.001\n",
      "scipy              module         <module 'scipy' from 'C:\\<...>ges\\\\scipy\\\\__init__.py'>\n",
      "targetState        ndarray        4x60: 240 elems, type `float64`, 1920 bytes\n",
      "v_k                ndarray        1x2: 2 elems, type `float64`, 16 bytes\n",
      "x                  ndarray        60: 60 elems, type `float64`, 480 bytes\n",
      "z                  ndarray        1x2: 2 elems, type `float64`, 16 bytes\n",
      "z_k_estimate       ndarray        1x2: 2 elems, type `float64`, 16 bytes\n"
     ]
    }
   ],
   "source": [
    "whos"
   ]
  },
  {
   "cell_type": "code",
   "execution_count": null,
   "metadata": {},
   "outputs": [],
   "source": []
  }
 ],
 "metadata": {
  "kernelspec": {
   "display_name": "Python 3",
   "language": "python",
   "name": "python3"
  },
  "language_info": {
   "codemirror_mode": {
    "name": "ipython",
    "version": 3
   },
   "file_extension": ".py",
   "mimetype": "text/x-python",
   "name": "python",
   "nbconvert_exporter": "python",
   "pygments_lexer": "ipython3",
   "version": "3.7.6"
  }
 },
 "nbformat": 4,
 "nbformat_minor": 4
}
